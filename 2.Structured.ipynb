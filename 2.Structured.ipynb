{
 "cells": [
  {
   "cell_type": "markdown",
   "metadata": {},
   "source": [
    "# Structured Text"
   ]
  },
  {
   "cell_type": "markdown",
   "metadata": {},
   "source": [
    "## The Problem\n",
    "\n",
    "I've followed NCAA Wrestling for many years, and lately have taken an interest in talent identification and athlete development.\n",
    "\n",
    "Consider, for example, the problem of recuiting collegiate wrestlers. Pontential scholarship athletes will commonly be screened from high school teams (in rare cases, international wrestlers may come from club teams); thus, there is consider interest in high school rankings. See, for example,\n",
    "\n",
    "- [Intermat](https://intermatwrestle.com/rankings/high_school)\n",
    "- [The Open Mat](https://news.theopenmat.com/category/high-school-wrestling/high-school-wrestling-rankings)\n",
    "- [WIN](https://www.win-magazine.com/category/hs-rankings/)\n",
    "\n",
    "It might be useful to compare these different ranking services to determine which are best at predicting collegiate success. To the end, I've decided to compare the 2015 high school class with the results from the 2018 NCAA tournament."
   ]
  },
  {
   "cell_type": "markdown",
   "metadata": {},
   "source": [
    "##  Manual Solution\n",
    "\n",
    "- Copied table from [The Open Mat]('https://news.theopenmat.com/high-school-wrestling/high-school-wrestling-rankings/final-2015-clinch-gear-national-high-school-wrestling-individual-rankings/57136') into Excel, edited and saved as [CSV](./openmat2015.csv)\n",
    "- Copied data from the 2018 NCAA Tournament from [PDF source](https://i.turner.ncaa.com/sites/default/files/external/gametool/brackets/wrestling_d1_2018.pdf) and from [FloArena](https://arena.flowrestling.org/event/8f1c1320-e1ac-31b5-c401-e7dda525e4b3) and compiled into [CSV](./ncaa2018.csv). These data also include final rankings from the Coaches Poll and [WrestleStat](https://www.wrestlestat.com/season/2018/rankings/starters) and results from various conference tournaments.\n",
    "\n",
    "\n",
    "Can we merge these two tables to determine how top rank 2015 high school wrestlers performed in 2018?"
   ]
  },
  {
   "cell_type": "markdown",
   "metadata": {},
   "source": [
    "Read tables"
   ]
  },
  {
   "cell_type": "code",
   "execution_count": null,
   "metadata": {},
   "outputs": [],
   "source": [
    "import pandas\n",
    "\n",
    "ncaa18_dat = pandas.read_csv(\"./ncaa2018.csv\")\n",
    "hs2015_dat = pandas.read_csv(\"./openmat2015.csv\")"
   ]
  },
  {
   "cell_type": "markdown",
   "metadata": {},
   "source": [
    "Remove the non-qualifiers from the NCAA data set."
   ]
  },
  {
   "cell_type": "code",
   "execution_count": null,
   "metadata": {},
   "outputs": [],
   "source": [
    "ncaa18_dat = ncaa18_dat[ncaa18_dat.Finish != 'NQ']"
   ]
  },
  {
   "cell_type": "markdown",
   "metadata": {},
   "source": [
    "Process wrestler names in the high school set to match the NCAA format."
   ]
  },
  {
   "cell_type": "code",
   "execution_count": null,
   "metadata": {},
   "outputs": [],
   "source": [
    "names = hs2015_dat['Name'].apply(lambda x: x.split(' '))\n",
    "names_dat = pandas.DataFrame(list(zip(*names)))\n",
    "names_dat = names_dat.T\n",
    "names_dat.rename(columns = {0:'First', 1:'Last'}, inplace = True)\n",
    "hs2015_dat = pandas.concat([hs2015_dat, names_dat], axis=1)"
   ]
  },
  {
   "cell_type": "markdown",
   "metadata": {},
   "source": [
    "To simplify analysis, group ranks into quantiles:"
   ]
  },
  {
   "cell_type": "code",
   "execution_count": null,
   "metadata": {},
   "outputs": [],
   "source": [
    "import math\n",
    "max_rank = max(hs2015_dat.Rank)\n",
    "hs2015_dat['Quartile'] = hs2015_dat['Rank'].apply(lambda x: math.ceil(4*x/max_rank))"
   ]
  },
  {
   "cell_type": "markdown",
   "metadata": {},
   "source": [
    "\n",
    "### How well does high school ranking predict participation in the NCAA tournament?\n"
   ]
  },
  {
   "cell_type": "code",
   "execution_count": null,
   "metadata": {},
   "outputs": [],
   "source": [
    "merged_dat = pandas.merge(hs2015_dat, ncaa18_dat, on=['First', 'Last'],how='inner')\n",
    "pandas.crosstab(merged_dat.Quartile,merged_dat.Finish)"
   ]
  },
  {
   "cell_type": "code",
   "execution_count": null,
   "metadata": {},
   "outputs": [],
   "source": [
    "from statsmodels.graphics.mosaicplot import mosaic\n",
    "plo = mosaic(merged_dat, ['Quartile', 'Finish'])"
   ]
  },
  {
   "cell_type": "code",
   "execution_count": null,
   "metadata": {},
   "outputs": [],
   "source": [
    "### What is the relationship between high school rank and NCAA place?"
   ]
  },
  {
   "cell_type": "code",
   "execution_count": null,
   "metadata": {},
   "outputs": [],
   "source": [
    "merged_dat = pandas.merge(hs2015_dat, ncaa18_dat, on=['First', 'Last'],how='outer',left_index=True, right_index=True)\n",
    "merged_dat['Quartile']=merged_dat.Quartile.fillna(5)\n",
    "merged_dat['Finish']=merged_dat.Finish.fillna('NQ')\n",
    "pandas.crosstab(merged_dat.Quartile,merged_dat.Finish)"
   ]
  },
  {
   "cell_type": "code",
   "execution_count": null,
   "metadata": {},
   "outputs": [],
   "source": [
    "from statsmodels.graphics.mosaicplot import mosaic\n",
    "plt = mosaic(merged_dat, ['Quartile', 'Finish'])"
   ]
  },
  {
   "cell_type": "markdown",
   "metadata": {},
   "source": [
    "# Web Scraping solution\n",
    "\n",
    "The data in `openmat2015.csv` were copied from a table in\n",
    "\n",
    "https://news.theopenmat.com/high-school-wrestling/high-school-wrestling-rankings/final-2015-clinch-gear-national-high-school-wrestling-individual-rankings/57136\n",
    "\n",
    "Can we 'scrape' this table directly?"
   ]
  },
  {
   "cell_type": "code",
   "execution_count": null,
   "metadata": {},
   "outputs": [],
   "source": [
    "path = 'https://news.theopenmat.com/high-school-wrestling/high-school-wrestling-rankings/final-2015-clinch-gear-national-high-school-wrestling-individual-rankings/57136'"
   ]
  },
  {
   "cell_type": "code",
   "execution_count": null,
   "metadata": {},
   "outputs": [],
   "source": [
    "from lxml import html\n",
    "import requests\n",
    "page = requests.get(path)\n",
    "tree = html.fromstring(page.content)\n",
    "\n",
    "print(type(tree))\n",
    "\n",
    "print(page.content[1:100])"
   ]
  },
  {
   "cell_type": "markdown",
   "metadata": {},
   "source": [
    "The HtmlElement class gives us access to the HTML structure. See https://lxml.de/api/lxml.html.HtmlElement-class.html"
   ]
  },
  {
   "cell_type": "code",
   "execution_count": null,
   "metadata": {},
   "outputs": [],
   "source": [
    "dir(tree)[40:50]"
   ]
  },
  {
   "cell_type": "markdown",
   "metadata": {},
   "source": [
    "We can navigate the HTML tree using `xpath`"
   ]
  },
  {
   "cell_type": "code",
   "execution_count": null,
   "metadata": {},
   "outputs": [],
   "source": [
    "table = tree.xpath('//table')\n",
    "print(table)"
   ]
  },
  {
   "cell_type": "markdown",
   "metadata": {},
   "source": [
    "The xpath syntax allows for some non-standard function evaluation; consder\n"
   ]
  },
  {
   "cell_type": "code",
   "execution_count": null,
   "metadata": {},
   "outputs": [],
   "source": [
    "table_nodes = tree.xpath('//table/node()')\n",
    "print(table_nodes)\n",
    "table_text = tree.xpath('//table/text()')\n",
    "print(table_text)"
   ]
  },
  {
   "cell_type": "markdown",
   "metadata": {},
   "source": [
    "We extract the table headers with"
   ]
  },
  {
   "cell_type": "code",
   "execution_count": null,
   "metadata": {},
   "outputs": [],
   "source": [
    "table_head = table[0].xpath('//th/text()')\n",
    "print(table_head)"
   ]
  },
  {
   "cell_type": "markdown",
   "metadata": {},
   "source": [
    "and the body of the table"
   ]
  },
  {
   "cell_type": "code",
   "execution_count": null,
   "metadata": {},
   "outputs": [],
   "source": [
    "table_body = table[0].xpath('//tbody')\n",
    "print(table_body[0])"
   ]
  },
  {
   "cell_type": "markdown",
   "metadata": {},
   "source": [
    "The codes for xpath can also specify nested elements."
   ]
  },
  {
   "cell_type": "code",
   "execution_count": null,
   "metadata": {},
   "outputs": [],
   "source": [
    "table_body_rows = table[0].xpath('//tbody/node()')\n",
    "print(table_body_rows[0:9])\n",
    "table_body_rows = table[0].xpath('//tbody/tr')\n",
    "print(table_body_rows[0:9])"
   ]
  },
  {
   "cell_type": "markdown",
   "metadata": {},
   "source": [
    "Accessing elements via HTMLElement is, to my thinking, very non-standard. Consider"
   ]
  },
  {
   "cell_type": "code",
   "execution_count": null,
   "metadata": {},
   "outputs": [],
   "source": [
    "print(table_body_rows[0])\n",
    "print(table_body_rows[0].xpath('//td/text()')[0:8])\n",
    "print(table_body_rows[1].xpath('//td/text()')[0:8])\n",
    "print(table_body_rows[2].xpath('//td/text()')[0:8])"
   ]
  },
  {
   "cell_type": "code",
   "execution_count": null,
   "metadata": {},
   "outputs": [],
   "source": [
    "table_body_row = table[0].xpath('//tbody/tr[1]/td')\n",
    "print(table_body_row)"
   ]
  },
  {
   "cell_type": "code",
   "execution_count": null,
   "metadata": {},
   "outputs": [],
   "source": [
    "table_cell = table[0].xpath('//tbody/tr[2]/td[1]/text()')\n",
    "print(table_cell)\n",
    "table_cell = table[0].xpath('//tbody/tr[2]/td[2]/text()')\n",
    "print(table_cell)\n",
    "table_cell = table[0].xpath('//tbody/tr[2]/td[3]/text()')\n",
    "print(table_cell)"
   ]
  },
  {
   "cell_type": "markdown",
   "metadata": {},
   "source": [
    "Fortunately, pandas gives us a simpler interface:"
   ]
  },
  {
   "cell_type": "code",
   "execution_count": null,
   "metadata": {},
   "outputs": [],
   "source": [
    "import pandas\n",
    "openmat2015_dat = pandas.read_html(path)\n",
    "print(openmat2015_dat)"
   ]
  },
  {
   "cell_type": "markdown",
   "metadata": {},
   "source": [
    "I get inconsistent behaviour with this code:"
   ]
  },
  {
   "cell_type": "code",
   "execution_count": null,
   "metadata": {},
   "outputs": [],
   "source": [
    "path = 'https://www.wrestlestat.com/nationaltourneyresult/2018/individual/125'\n",
    "ncaa2018_125 = pandas.read_html(path)\n",
    "print(ncaa2018_125)"
   ]
  },
  {
   "cell_type": "markdown",
   "metadata": {},
   "source": [
    "## HTML Attributes\n",
    "\n",
    "Not only can we parse HTML nodes, we can also examine attributes. Consider the links to national tournament results at WrestleStat"
   ]
  },
  {
   "cell_type": "code",
   "execution_count": null,
   "metadata": {},
   "outputs": [],
   "source": [
    "path = 'https://www.wrestlestat.com/nationaltourneyresult'\n",
    "page = requests.get(path)\n",
    "tree = html.fromstring(page.content)\n",
    "link_nodes = tree.xpath('//a[@href]')\n",
    "print(link_nodes[0:10])\n",
    "for i in range(20, 30):\n",
    "    print(link_nodes[i].attrib)"
   ]
  },
  {
   "cell_type": "markdown",
   "metadata": {},
   "source": [
    "We access attributes using `key` syntax"
   ]
  },
  {
   "cell_type": "code",
   "execution_count": null,
   "metadata": {},
   "outputs": [],
   "source": [
    "for i in range(20, 30):\n",
    "    print(link_nodes[i].attrib['href'])"
   ]
  },
  {
   "cell_type": "markdown",
   "metadata": {},
   "source": [
    "and we can subset in the `xpath` syntax"
   ]
  },
  {
   "cell_type": "code",
   "execution_count": null,
   "metadata": {},
   "outputs": [],
   "source": [
    "link_nodes = tree.xpath('//a[contains(@href, \"2018\")]')\n",
    "print(link_nodes)\n",
    "for i in range(0, 11):\n",
    "    print(link_nodes[i].attrib['href'])"
   ]
  },
  {
   "cell_type": "code",
   "execution_count": null,
   "metadata": {},
   "outputs": [],
   "source": [
    "link_nodes = tree.xpath('//a[contains(@href, \"2018\") and contains(@href, \"individual\")]')\n",
    "print(link_nodes)\n",
    "for i in range(0, 9):\n",
    "    print(link_nodes[i].attrib['href'])"
   ]
  },
  {
   "cell_type": "markdown",
   "metadata": {},
   "source": [
    "# Exercises\n",
    "\n",
    "# 1\n",
    "\n",
    "The data table we read directly from The Open Mat has weight classes as headings. Can we process the HTML to create a table with weight class in columns?\n",
    "\n",
    "# 2\n",
    "\n",
    "Can these be read into tables compatible with the analysis at the top of this page?\n",
    "\n",
    "- https://intermatwrestle.com/rankings/high_school\n",
    "- https://news.theopenmat.com/high-school-wrestling/high-school-wrestling-rankings/adidas-national-high-school-wrestling-individual-rankings-january-2nd-2020/76034\n",
    "- https://www.flowrestling.org/rankings/6448067-2019-20-high-school-rankings/35060-pound-for-pound\n",
    "\n",
    "# 3\n",
    "\n",
    "Go back to\n",
    "https://www.itl.nist.gov/div898/strd/anova/SiRstv.html\n",
    "\n",
    "Can you write code to read the data linked on this page, then iterate over the linked data sets by following the `Next Dataset` links?\n",
    "\n",
    "# 4\n",
    "\n",
    "Iterate over links in\n",
    "https://www.win-magazine.com/category/hs-rankings/\n",
    "and parse individual pages, i.e.\n",
    "https://www.win-magazine.com/2019/12/wins-december-2019-high-school-rankings/\n"
   ]
  },
  {
   "cell_type": "code",
   "execution_count": null,
   "metadata": {},
   "outputs": [],
   "source": []
  }
 ],
 "metadata": {
  "kernelspec": {
   "display_name": "Python 3",
   "language": "python",
   "name": "python3"
  },
  "language_info": {
   "codemirror_mode": {
    "name": "ipython",
    "version": 3
   },
   "file_extension": ".py",
   "mimetype": "text/x-python",
   "name": "python",
   "nbconvert_exporter": "python",
   "pygments_lexer": "ipython3",
   "version": "3.7.4"
  }
 },
 "nbformat": 4,
 "nbformat_minor": 2
}

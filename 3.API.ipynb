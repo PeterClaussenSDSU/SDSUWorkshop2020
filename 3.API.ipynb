{
 "cells": [
  {
   "cell_type": "markdown",
   "metadata": {},
   "source": [
    "# API\n",
    "\n",
    "## The Problem\n",
    "\n",
    "One of the wrestlers I've followed over the years is Luke Zilverberg, 157 for SDSU. He place 8th in 2018, but was not particularly highly ranked in high school (at least, that's my understanding). I'd like go back over the various wrestling web sites and try mine past results - perhaps we might build a machine learning system that produce better rankings.\n",
    "\n",
    "\n",
    "# The Open Mat\n",
    "\n",
    "We'll start with a web site with a very simple API. We simply pass a text query by"
   ]
  },
  {
   "cell_type": "code",
   "execution_count": null,
   "metadata": {},
   "outputs": [],
   "source": [
    "query =  'https://news.theopenmat.com/?s=zilverberg'"
   ]
  },
  {
   "cell_type": "markdown",
   "metadata": {},
   "source": [
    "This is then loaded as any web page:"
   ]
  },
  {
   "cell_type": "code",
   "execution_count": null,
   "metadata": {},
   "outputs": [],
   "source": [
    "from lxml import html\n",
    "import requests\n",
    "page = requests.get(query)\n",
    "tree = html.fromstring(page.content)\n",
    "print(tree)"
   ]
  },
  {
   "cell_type": "markdown",
   "metadata": {},
   "source": [
    "We will most likely be interested in hyperlinks, so"
   ]
  },
  {
   "cell_type": "code",
   "execution_count": null,
   "metadata": {},
   "outputs": [],
   "source": [
    "link_nodes = tree.xpath('//a/@href')\n",
    "print(link_nodes[0:6])"
   ]
  },
  {
   "cell_type": "markdown",
   "metadata": {},
   "source": [
    "We will further want to limit our crawling to rankings."
   ]
  },
  {
   "cell_type": "code",
   "execution_count": null,
   "metadata": {},
   "outputs": [],
   "source": [
    "import pandas\n",
    "import re\n",
    "\n",
    "for link in link_nodes:\n",
    "\n",
    "     if re.search('.*rankings.*/[0-9]+$', link)!=None :\n",
    "        print(link)\n",
    "        page = requests.get(link)\n",
    "        tree = html.fromstring(page.content)\n",
    "        try:\n",
    "             tbl = pandas.read_html(link)\n",
    "             print(tbl)\n",
    "        except:\n",
    "             print(\"No tables at \"+link)     "
   ]
  },
  {
   "cell_type": "markdown",
   "metadata": {},
   "source": [
    "## FloWrestling\n",
    "FloWresting has a similar API, but also allows us to specify a category (this will be accessible through a tab in the main page)."
   ]
  },
  {
   "cell_type": "code",
   "execution_count": null,
   "metadata": {},
   "outputs": [],
   "source": [
    "query = 'https://www.flowrestling.org/search?q=zilverberg&type=ranking'\n",
    "page = requests.get(query)\n",
    "tree = html.fromstring(page.content)\n",
    "link_nodes = tree.xpath('//a/@href')\n",
    "print(link_nodes[0:6])"
   ]
  },
  {
   "cell_type": "code",
   "execution_count": null,
   "metadata": {},
   "outputs": [],
   "source": [
    "for link in link_nodes:\n",
    "    if (link.find('recruiting') != -1):\n",
    "        link_url = 'https://www.flowrestling.org'+link\n",
    "        page = requests.get(link_url)\n",
    "        tree = html.fromstring(page.content)\n",
    "        try:\n",
    "             tbl = pandas.read_html(link_url)\n",
    "             print(tbl)\n",
    "        except:\n",
    "             print(\"No tables at \"+link_url)  "
   ]
  },
  {
   "cell_type": "markdown",
   "metadata": {},
   "source": [
    "Compare this with the results query (I’ve included some of the other API calls)"
   ]
  },
  {
   "cell_type": "code",
   "execution_count": null,
   "metadata": {},
   "outputs": [],
   "source": [
    "query = 'https://www.flowrestling.org/search?q=zilverberg&page=1&limit=10&sort=recent&type=result'\n",
    "page = requests.get(query)\n",
    "tree = html.fromstring(page.content)\n",
    "link_nodes = tree.xpath('//a/@href')"
   ]
  },
  {
   "cell_type": "code",
   "execution_count": null,
   "metadata": {},
   "outputs": [],
   "source": [
    "for link in link_nodes:\n",
    "    if (link.find('championship') != -1):\n",
    "        link_url = 'https://www.flowrestling.org'+link\n",
    "        page = requests.get(link_url)\n",
    "        tree = html.fromstring(page.content)\n",
    "        try:\n",
    "             tbl = pandas.read_html(link_url)\n",
    "             print(tbl)\n",
    "        except:\n",
    "             print(\"No tables at \"+link_url)  "
   ]
  },
  {
   "cell_type": "markdown",
   "metadata": {},
   "source": [
    "This example is a bit unfair - the pages returned from Flo don’t look like HTML (or anything ML-like, for that matter). There are some sites in the Exercises that have more accessible API, but, unfortunately, Flo is probably more complete.\n",
    "\n",
    "Trackwrestling\n",
    "www.trackwrestling.com also has an extensive data base, but it’s API is more cryptic - I’ll include it for illustation only."
   ]
  },
  {
   "cell_type": "code",
   "execution_count": null,
   "metadata": {},
   "outputs": [],
   "source": [
    "query = 'https://www.trackwrestling.com/tw/membership/ViewProfile.jsp?TIM=1580939416681&twSessionId=zvsxsjdwnd&twId=2098662009'\n",
    "page = requests.get(query)\n",
    "tree = html.fromstring(page.content)\n",
    "link_nodes = tree.xpath('//a/@href')\n",
    "print(link_nodes)"
   ]
  },
  {
   "cell_type": "markdown",
   "metadata": {},
   "source": [
    "# Exercises\n",
    "\n",
    "# 1\n",
    "\n",
    "Note that in our first example from The Open Mat, some of the links are of the form\n",
    "`https://news.theopenmat.com/page/2?s=zilverberg` . Write a script to parse the result from\n",
    "https://news.theopenmat.com/?s=zilverberg and iterate over these additional pages in turn.\n",
    "\n",
    "\n",
    "# 2\n",
    "\n",
    "Iterate over each wrestler in the `ncaa2018.csv` file, and write a script to crawl the web to find wrestling results or rankings (perhaps video?) for each wrestler.\n",
    "\n",
    "# 3\n",
    "\n",
    "Visit the web site [Quant Wrestling](https://quantwrestling.com/) and [The Intermat](https://intermatwrestle.com/rankings/college/)\n",
    "Can you write code to load rakings for the 149 pound weight class, and to compare those rankings?\n"
   ]
  },
  {
   "cell_type": "code",
   "execution_count": null,
   "metadata": {},
   "outputs": [],
   "source": []
  }
 ],
 "metadata": {
  "kernelspec": {
   "display_name": "Python 3",
   "language": "python",
   "name": "python3"
  },
  "language_info": {
   "codemirror_mode": {
    "name": "ipython",
    "version": 3
   },
   "file_extension": ".py",
   "mimetype": "text/x-python",
   "name": "python",
   "nbconvert_exporter": "python",
   "pygments_lexer": "ipython3",
   "version": "3.7.4"
  }
 },
 "nbformat": 4,
 "nbformat_minor": 2
}

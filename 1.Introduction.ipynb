{
 "cells": [
  {
   "cell_type": "markdown",
   "metadata": {},
   "source": [
    "# Web Scraping \n",
    "## A Gentle Introduction\n",
    "\n",
    "### The Problem\n",
    "\n",
    "\n",
    "- Visit the NIST Statistical Reference Data Set [](https://www.itl.nist.gov/div898/strd/anova/SiRstv.html)\n",
    "- Use the data in [Data File in Two-Column Format](https://www.itl.nist.gov/div898/strd/anova/SiRstv.dat)\n",
    "- Reproduce the [image](https://www.itl.nist.gov/div898/strd/anova/SiRstv.gif)\n",
    "\n",
    "\n",
    "### Manual Solution\n",
    "- Download file to local drive\n",
    "- Edit in text editor to remove comments\n",
    "- Read using standard data table functions"
   ]
  },
  {
   "cell_type": "markdown",
   "metadata": {},
   "source": [
    "# Python Solution"
   ]
  },
  {
   "cell_type": "code",
   "execution_count": null,
   "metadata": {},
   "outputs": [],
   "source": [
    "import pandas\n",
    "tbl = pandas.read_table('./SiRstv.dat',sep='\\s+')\n",
    "tbl.plot.scatter(x='Instrument', y='Resistance')"
   ]
  },
  {
   "cell_type": "code",
   "execution_count": null,
   "metadata": {},
   "outputs": [],
   "source": [
    "import matplotlib.pyplot as plt\n",
    "plt.plot(tbl['Instrument'], tbl['Resistance'],'ko')\n",
    "plt.ylabel('Resistivity, ohm*cm')\n",
    "plt.xlabel('Instrument')\n",
    "plt.show()"
   ]
  },
  {
   "cell_type": "markdown",
   "metadata": {},
   "source": [
    "Next Steps\n",
    "========================================================\n",
    "\n",
    "We're a long way from web scraping. We had to download a file from the web to edit it into an appropriate format, deleting documentation. That's acceptable for a small exmaple, more interesting data will be larger and dynamic.\n",
    "\n",
    "Our next step towards web scraping will be to read files directly from the web. \n",
    "\n"
   ]
  },
  {
   "cell_type": "markdown",
   "metadata": {},
   "source": [
    "## Skipping lines"
   ]
  },
  {
   "cell_type": "code",
   "execution_count": null,
   "metadata": {},
   "outputs": [],
   "source": [
    "tbl = pandas.read_table('http://www.itl.nist.gov/div898/strd/anova/SiRstv.dat',sep='\\s+',skiprows=59)\n",
    "tbl.rename(columns = {'Data:':'Instrument', 'Instrument':'Resistance', \n",
    "                              'Resistance':'Blank'}, inplace = True) \n",
    "plt.plot(tbl['Instrument'], tbl['Resistance'],'ko')\n",
    "plt.ylabel('Resistivity, ohm*cm')\n",
    "plt.xlabel('Instrument')\n",
    "plt.show()"
   ]
  },
  {
   "cell_type": "markdown",
   "metadata": {},
   "source": [
    "We can read the data in one atomic action, i.e. "
   ]
  },
  {
   "cell_type": "code",
   "execution_count": null,
   "metadata": {},
   "outputs": [],
   "source": [
    "fin = open('./SiRstv.dat','r')\n",
    "txt = fin.read()\n",
    "fin.close()\n",
    "print(txt)"
   ]
  },
  {
   "cell_type": "markdown",
   "metadata": {},
   "source": [
    "and via URL"
   ]
  },
  {
   "cell_type": "code",
   "execution_count": null,
   "metadata": {},
   "outputs": [],
   "source": [
    "import urllib\n",
    "url = urllib.request.urlopen('http://www.itl.nist.gov/div898/strd/anova/SiRstv.dat')\n",
    "txt = url.read()\n",
    "url.close()\n",
    "print(txt)"
   ]
  },
  {
   "cell_type": "markdown",
   "metadata": {},
   "source": [
    "Note that by default the URL is read as a binary stream. We'll want to decode to text later.\n",
    "\n",
    "But first, consider that if files are large, we may want to scan only part of the file. This we can do with\n"
   ]
  },
  {
   "cell_type": "code",
   "execution_count": null,
   "metadata": {},
   "outputs": [],
   "source": [
    "import re\n",
    "url = urllib.request.urlopen('http://www.itl.nist.gov/div898/strd/anova/SiRstv.dat')\n",
    "lines = 0\n",
    "while True:\n",
    "    line = url.readline().decode('utf-8')\n",
    "    if not line:\n",
    "        break\n",
    "    if re.match('Data:', line, flags=0) == None:\n",
    "        lines += 1\n",
    "    else:\n",
    "        break\n",
    "print(lines)\n",
    "url.close()"
   ]
  },
  {
   "cell_type": "markdown",
   "metadata": {},
   "source": [
    "This finds the first occurence of `Data`, but that doesn't help use much. We can read line by line and let `pandas` determine if the line is numeric. However, I find we need to wrap each line with a IO stream:"
   ]
  },
  {
   "cell_type": "code",
   "execution_count": null,
   "metadata": {},
   "outputs": [],
   "source": [
    "import io\n",
    "url = urllib.request.urlopen('http://www.itl.nist.gov/div898/strd/anova/SiRstv.dat')\n",
    "lines = 0\n",
    "while True:\n",
    "    line = url.readline().decode('utf-8')\n",
    "    bytes_read = len(line)\n",
    "    if not line:\n",
    "        break\n",
    "    line = line.strip()\n",
    "    if len(line)>0 :\n",
    "        current_row = pandas.read_table(io.StringIO(line),sep='\\s+', header=None)\n",
    "        if not pandas.api.types.is_numeric_dtype(current_row):\n",
    "            lines += 1\n",
    "        else:\n",
    "            print(line)            \n",
    "            break\n",
    "print(lines)\n",
    "url.close()"
   ]
  },
  {
   "cell_type": "code",
   "execution_count": null,
   "metadata": {},
   "outputs": [],
   "source": [
    "tbl = pandas.read_table('http://www.itl.nist.gov/div898/strd/anova/SiRstv.dat',sep='\\s+',skiprows=lines)\n",
    "tbl.rename(columns = {'Data:':'Instrument', 'Instrument':'Resistance', \n",
    "                              'Resistance':'Blank'}, inplace = True) \n",
    "plt.plot(tbl['Instrument'], tbl['Resistance'],'ko')\n",
    "plt.ylabel('Resistivity, ohm*cm')\n",
    "plt.xlabel('Instrument')\n",
    "plt.show()"
   ]
  },
  {
   "cell_type": "markdown",
   "metadata": {},
   "source": [
    "# 1\n",
    "\n",
    "Read a data table from [Data File in Table Format](https://www.itl.nist.gov/div898/strd/anova/SiRstvt.dat)\n",
    "\n",
    "# 2\n",
    "\n",
    "Repeat with a different data sets from https://www.itl.nist.gov/div898/strd/general/dataarchive.html"
   ]
  },
  {
   "cell_type": "code",
   "execution_count": null,
   "metadata": {},
   "outputs": [],
   "source": []
  }
 ],
 "metadata": {
  "kernelspec": {
   "display_name": "Python 3",
   "language": "python",
   "name": "python3"
  },
  "language_info": {
   "codemirror_mode": {
    "name": "ipython",
    "version": 3
   },
   "file_extension": ".py",
   "mimetype": "text/x-python",
   "name": "python",
   "nbconvert_exporter": "python",
   "pygments_lexer": "ipython3",
   "version": "3.7.4"
  }
 },
 "nbformat": 4,
 "nbformat_minor": 2
}
